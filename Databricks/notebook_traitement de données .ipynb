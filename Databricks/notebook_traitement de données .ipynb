{
 "cells": [
  {
   "cell_type": "code",
   "execution_count": 0,
   "metadata": {
    "application/vnd.databricks.v1+cell": {
     "cellMetadata": {
      "byteLimit": 2048000,
      "rowLimit": 10000
     },
     "inputWidgets": {},
     "nuid": "4e9d91eb-de61-48c6-b84d-a2b0d143d36c",
     "showTitle": false,
     "tableResultSettingsMap": {},
     "title": ""
    }
   },
   "outputs": [],
   "source": [
    "#configuration d'accces a Azure Datalake storage 2\n",
    "service_credential = dbutils.secrets.get(scope=\"accederadls\",key=\"accesAdls\")\n",
    "\n",
    "spark.conf.set(\"fs.azure.account.auth.type.datalakestorageazz56448.dfs.core.windows.net\", \"OAuth\")\n",
    "spark.conf.set(\"fs.azure.account.oauth.provider.type.datalakestorageazz56448.dfs.core.windows.net\", \"org.apache.hadoop.fs.azurebfs.oauth2.ClientCredsTokenProvider\")\n",
    "\n",
    "spark.conf.set(\"fs.azure.account.oauth2.client.id.datalakestorageazz56448.dfs.core.windows.net\", \"a52a45a4-d12b-497e-a2b3-3ebc52f344c8\")\n",
    "spark.conf.set(\"fs.azure.account.oauth2.client.secret.datalakestorageazz56448.dfs.core.windows.net\", service_credential)\n",
    "\n",
    "spark.conf.set(\"fs.azure.account.oauth2.client.endpoint.datalakestorageazz56448.dfs.core.windows.net\", \"https://login.microsoftonline.com/60182515-fd24-49c5-a29d-1535c79bddb5/oauth2/token\")"
   ]
  },
  {
   "cell_type": "code",
   "execution_count": 0,
   "metadata": {
    "application/vnd.databricks.v1+cell": {
     "cellMetadata": {
      "byteLimit": 2048000,
      "rowLimit": 10000
     },
     "inputWidgets": {},
     "nuid": "f3049ec1-4809-41c0-b537-81b9d3fd6dc2",
     "showTitle": false,
     "tableResultSettingsMap": {},
     "title": ""
    }
   },
   "outputs": [
    {
     "output_type": "execute_result",
     "data": {
      "text/plain": [
       "[FileInfo(path='abfss://data-insurance@datalakestorageazz56448.dfs.core.windows.net/clients.csv', name='clients.csv', size=77207, modificationTime=1741180714000),\n",
       " FileInfo(path='abfss://data-insurance@datalakestorageazz56448.dfs.core.windows.net/contrats.csv', name='contrats.csv', size=103674, modificationTime=1741180714000),\n",
       " FileInfo(path='abfss://data-insurance@datalakestorageazz56448.dfs.core.windows.net/fema_disasters.csv', name='fema_disasters.csv', size=37062, modificationTime=1741180714000),\n",
       " FileInfo(path='abfss://data-insurance@datalakestorageazz56448.dfs.core.windows.net/sinistres.csv', name='sinistres.csv', size=101096, modificationTime=1741180714000),\n",
       " FileInfo(path='abfss://data-insurance@datalakestorageazz56448.dfs.core.windows.net/weather.csv', name='weather.csv', size=13313, modificationTime=1741180714000)]"
      ]
     },
     "execution_count": 23,
     "metadata": {},
     "output_type": "execute_result"
    }
   ],
   "source": [
    "#teste de connexion\n",
    "dbutils.fs.ls(\"abfss://data-insurance@datalakestorageazz56448.dfs.core.windows.net/\")\n"
   ]
  }
 ],
 "metadata": {
  "application/vnd.databricks.v1+notebook": {
   "computePreferences": null,
   "dashboards": [],
   "environmentMetadata": {
    "base_environment": "",
    "environment_version": "2"
   },
   "language": "python",
   "notebookMetadata": {
    "pythonIndentUnit": 4
   },
   "notebookName": "traitement de données 13:15:42",
   "widgets": {}
  },
  "language_info": {
   "name": "python"
  }
 },
 "nbformat": 4,
 "nbformat_minor": 0
}